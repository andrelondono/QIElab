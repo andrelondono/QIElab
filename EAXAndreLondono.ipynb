{
 "cells": [
  {
   "cell_type": "markdown",
   "metadata": {},
   "source": [
    "Andre Londono    SID:3032171715"
   ]
  },
  {
   "cell_type": "markdown",
   "metadata": {},
   "source": [
    "## EAX - Error Analysis Exercise"
   ]
  },
  {
   "cell_type": "markdown",
   "metadata": {},
   "source": [
    "### Note\n",
    "\n",
    "All new Physics 111 Advanced Lab students are required to complete this assignment at the beginning of the semester. It will be graded on 50 points basis; a late turn-in is allowed only with the instructor's approval before the due date. Don't jeopardize your grade on your first experiment by being late with this assignment. You need to know how to handle errors before you start a laboratory experiment.\n",
    "\n",
    "Important: View the <a href=\"http://youtu.be/jR54387Wd6c\">video introduction to error analysis</a> (you need to use your Berkeley email to access this). The Error Analysis Exercise due date is listed under <a href=\"http://experimentationlab.berkeley.edu/syllabus#Experimentation_Lab_Experiments_and_Due_Dates\">Advanced Lab Report Due Dates</a>."
   ]
  },
  {
   "cell_type": "markdown",
   "metadata": {},
   "source": [
    "### References\n",
    "\n",
    "<p>[<a class=\"external text\" href=\"http://physics111.lib.berkeley.edu/Physics111/Reprints/Data%20Analysis%20Book%20PDF/Data%20Analysis%20Book%20PDF_index.html\" rel=\"nofollow\" title=\"http://physics111.lib.berkeley.edu/Physics111/Reprints/Data%20Analysis%20Book%20PDF/\">Books available online with UC Berkeley authentication</a>]</p>\n",
    "<ol><li>P. Bevington, <a href=\"http://physics111.lib.berkeley.edu/Physics111/Reprints/Data%20Analysis%20Book%20PDF/Bevington-Copy.pdf\">\"<strong>Data Reduction and Error Analysis for the Physical Sciences\",</strong></a> McGraw-Hill. [An old standard that is pretty dry but straightforward. Chapter 5 is particularly important.]</li>\n",
    "<li>A. C. Melissinos and J. Napolitano, [<a class=\"external text\" href=\"http://physics111.lib.berkeley.edu/Physics111/Reprints/Experiments%20in%20Modern%20Physics%202nd%20Edition/Error%20Analysis%20elements%20from%20the%20theory%20of%20statistics.pdf\" rel=\"nofollow\" title=\"http://physics111.lib.berkeley.edu/Physics111/Reprints/Experiments%20in%20Modern%20Physics%202nd%20Edition/Error%20Analysis%20elements%20from%20the%20theory%20of%20statistics.pdf\">\"<strong>Experiments in Modern Physics, 2nd Edition\"</strong></a>], Academic Press (2003).</li>\n",
    "<li>W. H. Press, et al., [<a class=\"external text\" href=\"http://physics111.lib.berkeley.edu/Physics111/Reprints/Numerical%20Recipes%20in%20C/Numerical%20Recipes%20in%20C_index.html\" rel=\"nofollow\" title=\"http://physics111.lib.berkeley.edu/Physics111/Reprints/Numerical%20Recipes%20in%20C/\">\"<strong>Numerical Recipes in C</strong>:</a>] The Art of Scientific Computing, 2nd Edition\", Cambridge University Press (1992); refer to Ch. 14—\"Modeling of Data\". [The Numerical Recipes in Pascal or FORTRAN books contain identical information. This book is the standard reference for doing scientific work on computers. Chapter 14 has a good introduction to the method of maximum likelihood, chi–square fitting, modeling data in general, error estimates of fit parameters, and, important for later experiments, the Monte Carlo method of simulation.]</li>\n",
    "<li>I. G. Hughes and T. P. A. Hase, <strong><a href=\"http://physics111.lib.berkeley.edu/Physics111/Reprints/Data%20Analysis%20Book%20PDF/Measurements-n-Uncertainties.pdf\">Measurements and their Uncertainties</a></strong>, Oxford University Press (2010). [This is a well-written thin book that covers many basic concepts of statistics, extremely useful for this course.]</li>\n",
    "<li>Louis Lyons, \"<strong><a href=\"http://physics111.lib.berkeley.edu/Physics111/Reprints/Data%20Analysis%20Book%20PDF/Error%20Analysis%20Book-Louis%20Lyons.pdf\">A Practical Guide to Data Analysis for Physical Science Students\"</a></strong>  (1991) Cambridge Press; QC33.L9 1991</li>\n",
    "<li>Yardley Beers, <a href=\"http://physics111.lib.berkeley.edu/Physics111/Reprints/Data%20Analysis%20Book%20PDF/Error%20Analysis%20-%20Beers_Theory%20of%20Error.pdf\">\"<strong>Introduction to the Theory of Error\"</strong>;</a> ADDISON-WESLEY PUBLISHING (1957) QA275 B4 1957;</li>\n",
    "</ol>\n",
    "\n",
    "<p><span style=\"font-size:16px\">Reprints and other information can be found on the <a href=\"http://physics111.lib.berkeley.edu/Physics111/\">Physics 111 Library Site.</a></span></p>"
   ]
  },
  {
   "cell_type": "markdown",
   "metadata": {},
   "source": [
    "### Introduction\n",
    "\n",
    "<p>In the 111-lab, the experiment does not end when you have finished collecting your data. In many labs, you will be required to perform a detailed analysis of the data you have acquired. The point of any scientific experiment is to make quantitative statements about the properties of the physical world. A common question is, are your measurements consistent with a particular theory or not? This question can only be answered by careful analysis, including both systematic uncertainties and statistical error.</p>\n",
    "<p>The goals of this exercise are twofold. One is to familiarize students with the basics of error analysis. Ideally, this will serve as a guide during the acquisition and analysis of data throughout the advanced lab. The second goal is to introduce students to the Python computing environment, which you will be using throughout the semester.</p>\n",
    "<p>Before starting on EAX, please look over either the Python Tutorials <a href=\"https://github.com/avirukt/intro_python\">https://github.com/avirukt/intro_python</a> or the<a href=\"/matlabintro\"> </a><a href=\"/matlabintro\" title=\"Intro to Matlab\">Intro to </a><a href=\"/matlabintro\">Matlab</a> section.  Additional resources for using Python are <a href=\"http://pythontutor.com/\">http://pythontutor.com/</a> and <a href=\"https://datahub.berkeley.edu/\">https://datahub.berkeley.edu/</a></p>"
   ]
  },
  {
   "cell_type": "markdown",
   "metadata": {},
   "source": [
    "### Problem Set\n",
    "\n",
    "#### Problem 1: Poisson statistics\n",
    "\n",
    "We want to measure the activity (number of decays per second, a unit known as Becquerel) of a radioactive source so that we can use it to calibrate the equipment of the gamma-ray experiment. We use an electronic counter and a timer to measure the number of decays in a given time interval. In round numbers we obtain 1000 decays in 5 minutes. How long does it take (in seconds) in order to determine the activity with a statistical uncertainty of 1%? Explain.\n",
    "\n",
    "Enter the calculation in the cell below. Add a \"Markdown\" cell to explain your calculation"
   ]
  },
  {
   "cell_type": "code",
   "execution_count": 18,
   "metadata": {},
   "outputs": [
    {
     "name": "stdout",
     "output_type": "stream",
     "text": [
      "1/ sqrt(N) = 0.01\n",
      "N = 10000\n",
      "60 * N/1000 * 5 = 3000\n"
     ]
    }
   ],
   "source": [
    "from random import seed\n",
    "from random import randint\n",
    "\n",
    "def score(n):\n",
    "    scores = []\n",
    "    for i in range(n):\n",
    "        score = randint(1,6)\n",
    "        scores.append(score)\n",
    "    return scores\n",
    "\n",
    "print(\"1/ sqrt(N) = 0.01\")\n",
    "print(\"N = 10000\")\n",
    "print(\"60 * N/1000 * 5 = 3000\")"
   ]
  },
  {
   "cell_type": "markdown",
   "metadata": {},
   "source": [
    "#### Problem 2: Error propagation\n",
    "\n",
    "1. You are given the measurements of two sides of a rectangle $A$ and $B$ with the associate errors $\\sigma_A$ and $\\sigma_B$ respectively. Calculate the error in the\n",
    "    <br> (a) sum $A+B$\n",
    "    <br> (b) difference $A-B$\n",
    "    <br> (c) the perimeter $2A+2B$\n",
    "    <br> (d) the area $A\\times B$\n",
    "    <br> (e) the aspect ratio $A/B$\n",
    "    \n",
    "1. In the muon lifetime experiment we obtain a histogram for the decay rate as a function of the time after the muon enters the detector and announces its presence. We expect the distribution (the histogram) to be described by an exponential function. Rather than fitting with an exponential function, it is more convenient to plot the logarithm of the decay rate as a function of time and then fit a straight line to it. Since each data point ($x_i,y_i$) has a statistical error, $\\sigma_i$, associated with it, qualitatively, what happens to these errors when the semi-log histogram $(x_i,\\log{y_i})$ is plotted? Explain and illustrate. what happens, quantitatively? Assume $y_i$ is reasonably large.\n",
    "\n",
    "1. In a separate experiment, you find that $log E_0 = 1.6 \\pm 0.6$ (at 68% confidence level, CL). What is the value of $E_0$ and the experimental bounds at 68% CL? (Note that 0.6 is not small compared to 1.6).\n",
    "\n",
    "Write down the calculation in the \"Markdown\" cell below, or enclose a separate file. Show detail of your calculation. "
   ]
  },
  {
   "cell_type": "markdown",
   "metadata": {},
   "source": [
    "\n",
    "print(\"1)\")\n",
    "print(\"a) 𝜎𝐴 + 𝜎𝐵\")\n",
    "print(\"b) 𝜎𝐴 + 𝜎𝐵\")\n",
    "print(\"c) 2 𝜎𝐴 + 2 𝜎𝐵\")\n",
    "print(\"d) (𝜎𝐴/A + 𝜎𝐵/B) *A*B\")\n",
    "print(\"e) (𝜎𝐴/A + 𝜎𝐵/B) *A*B\")\n",
    "print(\"2)\")\n",
    "print(\"𝜎i' = 𝜎i/yi\")\n",
    "print(\"3)\")\n",
    "print(\"E0 = 39.81 E0 belongs to the bound of[10^(1), 10^(2.2)]\")\n"
   ]
  },
  {
   "cell_type": "markdown",
   "metadata": {},
   "source": [
    "#### Problem 3: Central Limit Theorem\n",
    "\n",
    "Here we will verify the Central Limit Theorem and reproduced a wikipedia plot (https://en.wikipedia.org/wiki/Central_limit_theorem#/media/File:Dice_sum_central_limit_theorem.svg)\n",
    "\n",
    "1. Write a function that returns $n$ integer random numbers, uniformly disributed between 1 and 6, inclusively. This represents $n$ throws of a fair 6-sided die. The value that comes up at each throw will be called the \"score\".\n",
    "1. Generate a distribution of 1000 dice throws and plot it as a  histogram normalized to unit area. Compute the mean $\\mu_1$ and standard deviation $\\sigma_1$ of this distribution. Compare your numerical result to the analytical calculation. \n",
    "1. Generate 1000 sets of throws of $N=2,3,4,5,10$ dice, computing the total sum of dice scores for each set. For each value of $N$, plot the distribution of total scores, and compute the mean $\\mu_N$ and standard deviation $\\sigma_N$ of each distribution. This should be similar to the plot at the link above.\n",
    "1. Plot the standard deviation $\\sigma_N$ as a function of $N$. Does it follow the Central Limit Theorem? "
   ]
  },
  {
   "cell_type": "code",
   "execution_count": 19,
   "metadata": {},
   "outputs": [
    {
     "name": "stdout",
     "output_type": "stream",
     "text": [
      "N = 2 standard deviation is 2.473662062610817\n",
      "N = 2 mean is 7.114\n",
      "N = 3 standard deviation is 2.9139794096733076\n",
      "N = 3 mean is 10.582\n",
      "N = 4 standard deviation is 3.4697406243118523\n",
      "N = 4 mean is 13.87\n",
      "N = 5 standard deviation is 3.7501381307893173\n",
      "N = 5 mean is 17.592\n",
      "N = 10 standard deviation is 5.360925200000462\n",
      "N = 10 mean is 35.059\n"
     ]
    },
    {
     "data": {
      "text/plain": [
       "Text(0, 0.5, 'standard deviation')"
      ]
     },
     "execution_count": 19,
     "metadata": {},
     "output_type": "execute_result"
    },
    {
     "data": {
      "image/png": "[encoded data removed]",
      "text/plain": [
       "<Figure size 432x288 with 1 Axes>"
      ]
     },
     "metadata": {
      "needs_background": "light"
     },
     "output_type": "display_data"
    },
    {
     "data": {
      "image/png": "[encoded data removed]",
      "text/plain": [
       "<Figure size 432x288 with 1 Axes>"
      ]
     },
     "metadata": {
      "needs_background": "light"
     },
     "output_type": "display_data"
    },
    {
     "data": {
      "image/png": "[encoded data removed]",
      "text/plain": [
       "<Figure size 432x288 with 1 Axes>"
      ]
     },
     "metadata": {
      "needs_background": "light"
     },
     "output_type": "display_data"
    },
    {
     "data": {
      "image/png": "[encoded data removed]",
      "text/plain": [
       "<Figure size 432x288 with 1 Axes>"
      ]
     },
     "metadata": {
      "needs_background": "light"
     },
     "output_type": "display_data"
    },
    {
     "data": {
      "image/png": "[encoded data removed]",
      "text/plain": [
       "<Figure size 432x288 with 1 Axes>"
      ]
     },
     "metadata": {
      "needs_background": "light"
     },
     "output_type": "display_data"
    },
    {
     "data": {
      "image/png": "[encoded data removed]",
      "text/plain": [
       "<Figure size 432x288 with 1 Axes>"
      ]
     },
     "metadata": {
      "needs_background": "light"
     },
     "output_type": "display_data"
    }
   ],
   "source": [
    "import numpy as np\n",
    "import scipy as sp\n",
    "import matplotlib.pyplot as plt\n",
    "from scipy.stats import norm\n",
    "import scipy.optimize as fitter\n",
    "%matplotlib inline\n",
    "\n",
    "\n",
    "def distribution_of_total_scores(n):\n",
    "    sum_of_total_scores = []\n",
    "    for i in range(1000):\n",
    "        result = sum(score(n))\n",
    "        sum_of_total_scores.append(result)\n",
    "    return sum_of_total_scores\n",
    "data_2 = distribution_of_total_scores(2)\n",
    "data_3 = distribution_of_total_scores(3)\n",
    "data_4 = distribution_of_total_scores(4)\n",
    "data_5 = distribution_of_total_scores(5)\n",
    "data_10 = distribution_of_total_scores(10)\n",
    "\n",
    "plot_2 = plt.figure(1)\n",
    "plt.hist(data_2,range(13))\n",
    "plt.title(\"histogram of distribution of sums with N = 2\")\n",
    "plt.xlabel(\"sum\")\n",
    "plt.ylabel(\"times\")\n",
    "mean_2 = np.mean(data_2)\n",
    "std_2 = np.std(data_2)\n",
    "print(\"N = 2 standard deviation is\", std_2)\n",
    "print(\"N = 2 mean is\", mean_2)\n",
    "\n",
    "plot_3 = plt.figure(2)\n",
    "plt.hist(data_3,range(19))\n",
    "mean_3 = np.mean(data_3)\n",
    "std_3 = np.std(data_3)\n",
    "plt.title(\"histogram of distribution of sums with N = 3\")\n",
    "plt.xlabel(\"sum\")\n",
    "plt.ylabel(\"times\")\n",
    "print(\"N = 3 standard deviation is\", std_3)\n",
    "print(\"N = 3 mean is\", mean_3)\n",
    "\n",
    "plot_4 = plt.figure(3)\n",
    "plt.hist(data_4,range(25))\n",
    "mean_4 = np.mean(data_4)\n",
    "std_4 = np.std(data_4)\n",
    "plt.title(\"histogram of distribution of sums with N = 4\")\n",
    "plt.xlabel(\"sum\")\n",
    "plt.ylabel(\"times\")\n",
    "print(\"N = 4 standard deviation is\", std_4)\n",
    "print(\"N = 4 mean is\", mean_4)\n",
    "\n",
    "plot_5 = plt.figure(4)\n",
    "plt.hist(data_5,range(31))\n",
    "mean_5 = np.mean(data_5)\n",
    "std_5 = np.std(data_5)\n",
    "plt.title(\"histogram of distribution of sums with N = 5\")\n",
    "plt.xlabel(\"sum\")\n",
    "plt.ylabel(\"times\")\n",
    "print(\"N = 5 standard deviation is\", std_5)\n",
    "print(\"N = 5 mean is\", mean_5)\n",
    "\n",
    "plot_10 = plt.figure(5)\n",
    "plt.hist(data_10,range(61))\n",
    "mean_10 = np.mean(data_10)\n",
    "std_10 = np.std(data_10)\n",
    "plt.title(\"histogram of distribution of sums with N = 10\")\n",
    "plt.xlabel(\"sum\")\n",
    "plt.ylabel(\"times\")\n",
    "print(\"N = 10 standard deviation is\", std_10)\n",
    "print(\"N = 10 mean is\", mean_10)\n",
    "\n",
    "plt.figure(6)\n",
    "plt.plot([2,3,4,5,10], [std_2, std_3, std_4, std_5, std_10])\n",
    "plt.xlabel(\"N\")\n",
    "plt.ylabel('standard deviation')\n",
    "\n"
   ]
  },
  {
   "cell_type": "markdown",
   "metadata": {},
   "source": [
    "#### Problem 4: gamma peak\n",
    "\n",
    "You are given a dataset (peak.dat, in the current directory) from a gamma-ray experiment consisting of ~1000 hits. Each line in the file corresponds to one recorded gamma-ray event, and stores the the measured energy of the gamma-ray. We will assume that the energies are randomly distributed about a common mean, and that each event is uncorrelated to others. Read the dataset from the enclosed file and:\n",
    "1. Produce a histogram of the distribution of energies. Choose the number of bins wisely, i.e. so that the width of each bin is smaller than the width of the peak, and at the same time so that the number of entries in the most populated bin is relatively large. Since this plot represents randomly-collected data, plotting error bars would be appropriate.\n",
    "1. Compute mean and standard deviation of the distribition of energies, and their uncertainties. \n",
    "1. Fit the distribution to a Gaussian function using an unbinned fit (<i>Hint:</i> use <tt>scipi.stats.norm.fit()</tt> function), and compare the parameters of the fitted Gaussian with the mean and standard deviation computed in #2\n",
    "1. Fit the distribution to a Gaussian function using a binned least-squares fit (<i>Hint:</i> use <tt>scipy.optimize.curve_fit()</tt> function), and compare the parameters of the fitted Gaussian and their uncertainties to the parameters obtained in the unbinned fit above. \n",
    "1. How consistent is the distribution with a Gaussian? In other words, compare the histogram from (1) to the fitted curve, and compute a goodness-of-fit value, such as $\\chi^2$/d.f.\n"
   ]
  },
  {
   "cell_type": "code",
   "execution_count": 20,
   "metadata": {},
   "outputs": [
    {
     "name": "stdout",
     "output_type": "stream",
     "text": [
      "Mean =  1.202680265\n",
      "Standard Deviation =  0.1037851246060088\n",
      "Statistical Uncertainty =   9.433981132056603 \n",
      "\n",
      "Gaussian a =77.304+/-2.498\n",
      "Gaussian mu= 1.191+/-0.004\n",
      "Sigma = 0.103+/-0.004 \n",
      "\n",
      "Mean =  1.202680265\n",
      "Sigma  =  0.1037851246060088\n",
      "Chi Square = 129869.15976864612\n",
      "Since Chi Square is large that means the integral of the chi square will result in a nearly 0 P value.\n",
      "So there is greater confidence that the observed deviation from the null hypothesis is significant.\n"
     ]
    },
    {
     "data": {
      "image/png": "[encoded data removed]",
      "text/plain": [
       "<Figure size 432x288 with 1 Axes>"
      ]
     },
     "metadata": {
      "needs_background": "light"
     },
     "output_type": "display_data"
    }
   ],
   "source": [
    "import numpy as np\n",
    "import scipy as sp\n",
    "import matplotlib.pyplot as plt\n",
    "from scipy.stats import norm\n",
    "import scipy.optimize as fitter\n",
    "%matplotlib inline\n",
    "\n",
    "#weight = 1/sigma\n",
    "#compute the uncertainty of the mean\n",
    "#for #2 just compute standard deviation\n",
    "\n",
    "#1\n",
    "data = np.loadtxt('peak.dat' , unpack= True)\n",
    "n, bins, patches = plt.hist(data, 20, color = 'm')\n",
    "mid = 0.5*(bins[1:] + bins[:-1])\n",
    "plt.errorbar(mid, n, yerr=9, fmt='none')\n",
    "\n",
    "\n",
    "#2\n",
    "print('Mean = ',  sp.mean(data))\n",
    "print('Standard Deviation = ', sp.std(data) )\n",
    "x = np.linspace(.8, 1.6, 100)\n",
    "par = norm.fit(data)\n",
    "pdf_fitted = norm.pdf(x,loc=par[0],scale=par[1])\n",
    "pdf = norm.pdf(x)\n",
    "\n",
    "plt.title('Distribution of Gamma ray energies')\n",
    "plt.plot(x,pdf_fitted, 'b', x ,pdf,'b-')\n",
    "plt.ylabel('Gamma ray events')\n",
    "plt.xlabel('Energy Levels')\n",
    "\n",
    "\n",
    "y, bin_edges = np.histogram(data, range=(.8 ,1.6),bins=40)\n",
    "x = [0.5*(bin_edges[1:] + bin_edges[:-1])]\n",
    "x1 = bin_edges[0:len(bin_edges)-1]\n",
    "\n",
    "\n",
    "ey = np.sqrt(y)\n",
    "ey = [max(error,1) for error in ey]\n",
    "print(\"Statistical Uncertainty =  \", max(ey) , '\\n')\n",
    "\n",
    "#3\n",
    "def model(x, a, mu, sigma):\n",
    "    return a*np.exp(-((x-mu)**2)/(2*sigma**2))\n",
    "\n",
    "\n",
    "par0 = np.array([600.0, 1.0, .1])\n",
    "par, cov = fitter.curve_fit(model, x1, y, par0)\n",
    "\n",
    "yfit = par[0] * np.exp(-((x1-par[1])**2)/(2*par[2]**2))\n",
    "plt.plot(x1, yfit, 'r')\n",
    "\n",
    "\n",
    "a = par[0]\n",
    "ea = np.sqrt(cov[0,0])\n",
    "print ('Gaussian a ={0:6.3f}+/-{1:5.3f}'.format(a,ea))\n",
    "b = par[1]\n",
    "eb = np.sqrt(cov[1,1])\n",
    "print( 'Gaussian mu={0:6.3f}+/-{1:5.3f}'.format(b,eb))\n",
    "c = par[2]\n",
    "ec = np.sqrt(cov[2,2])\n",
    "print('Sigma ={0:6.3f}+/-{1:5.3f}'.format(c,ec) , '\\n' )\n",
    "\n",
    "N = len(data)\n",
    "mean = sp.mean(data)\n",
    "print('Mean = ',  mean)\n",
    "sigma = sp.sqrt(np.sum((data-mean)**2)/len(data)) \n",
    "print('Sigma  = ', sigma)\n",
    "\n",
    "\n",
    "\n",
    "#4\n",
    "eMean = sigma/np.sqrt(N)\n",
    "eSigma=np.sqrt((np.sum((data-mean)**4)/N-(N-3)/(N-1)*sigma**4)/N)\n",
    "\n",
    "chi_squared = np.sum(((model(x1, *par)-y)/sigma)**2)\n",
    "print( 'Chi Square =', chi_squared)\n",
    "print('Since Chi Square is large that means the integral of the chi square will result in a nearly 0 P value.')\n",
    "print('So there is greater confidence that the observed deviation from the null hypothesis is significant.')\n",
    "#print 'Max-likelihood estimate of mean={0:4.2f}+/-{1:4.2f}'.format(mean,eMean)\n",
    "#print 'Max-likelihood estimate of sigma={0:4.2f}+/-{1:4.2f}'.format(sigma,eSigma)\n",
    "\n",
    "\n",
    "\n",
    "plt.show()"
   ]
  },
  {
   "cell_type": "markdown",
   "metadata": {},
   "source": [
    "#### Problem 5: Optical Pumping\n",
    "\n",
    "In the optical pumping experiment (OPT) we measure the resonant frequency of a Zeeman transition as a function of the applied current (local magnetic field). Consider a mock data set:\n",
    "\n",
    "<table border=\"1\" align=\"center\">\n",
    "<tr>\n",
    "<td>Current <i>I</i> (Amps)\n",
    "</td><td>0.0 </td><td> 0.2 </td><td> 0.4 </td><td> 0.6 </td><td> 0.8 </td><td> 1.0 </td><td> 1.2 </td><td> 1.4 </td><td> 1.6 </td><td> 1.8 </td><td> 2.0 </td><td> 2.2\n",
    "</td></tr>\n",
    "<tr>\n",
    "<td>Frequency <i>f</i> (MHz)\n",
    "</td><td> 0.14 </td><td> 0.60 </td><td> 1.21 </td><td> 1.94 </td><td> 2.45 </td><td> 3.07 </td><td> 3.80 </td><td> 4.12 </td><td> 4.68 </td><td> 5.60 </td><td> 6.38 </td><td> 6.72\n",
    "</td></tr></table>\n",
    "\n",
    "1. Plot a graph of the pairs of values. Assuming a linear relationship between $I$ and $f$, determine the slope and the intercept of the best-fit line using the least-squares method with equal weights, and draw the best-fit line through the data points in the graph.\n",
    "1. From what s/he knows about the equipment used to measure the resonant frequency, your lab partner hastily estimates the uncertainty in the measurement of $f$ to be $\\sigma(f) = 0.01$ MHz. Estimate the probability that the straight line you found is an adequate description of the observed data if it is distributed with the uncertainty guessed by your lab partner. (Hint: use scipy.stats.chi2 class to compute the quantile of the chi2 distribution).  What can you conclude from these results? \n",
    "1. Assume that the best-fit line found in Part 1 is a good fit to the data. Estimate the uncertainty in measurement of $y$ from the scatter of the observed data about this line. Again, assume that all the data points have equal weight. Use this to estimate the uncertainty in both the slope and the intercept of the best-fit line. This is the technique you will use in the Optical Pumping lab to determine the uncertainties in the fit parameters.\n",
    "1. Now assume that the uncertainty in each value of $f$ grows with $f$: $\\sigma(f) = 0.03 + 0.03 * f$ (MHz). Determine the slope and the intercept of the best-fit line using the least-squares method with unequal weights (weighted least-squares fit)\n"
   ]
  },
  {
   "cell_type": "code",
   "execution_count": 9,
   "metadata": {},
   "outputs": [
    {
     "name": "stdout",
     "output_type": "stream",
     "text": [
      "Slope of fit = 2.6470481507806216\n",
      "Intercept of fit =  0.7080010534353516 \n",
      "\n",
      "Chi Square with sigma(.01) =  84016.43915069911\n",
      "Since Chi square is very large then the p value will be less than .05 so we can accept this null hypothesis\n",
      "Chi Square with sigma(1) =  8.40164391506991\n",
      "Since Chi square is smaller then the p value will be larger than .05 so we cannot accept this null hypothesis \n",
      "\n",
      "Uncertainty in line =  0.637410683591476\n",
      "Uncertainty in slope = 2.6470481557602943\n",
      "Uncertainty in Y intercept 0.70800104456337 \n",
      "\n",
      "Slope for unequal weighted fit 2.9341064362410973\n",
      "Y in for unequal weighted fit 0.17895399264944173\n"
     ]
    },
    {
     "data": {
      "image/png": "[encoded data removed]",
      "text/plain": [
       "<Figure size 432x288 with 1 Axes>"
      ]
     },
     "metadata": {
      "needs_background": "light"
     },
     "output_type": "display_data"
    }
   ],
   "source": [
    "import scipy as sp\n",
    "import numpy as np\n",
    "from scipy import stats\n",
    "import matplotlib.pyplot as plt\n",
    "from scipy.stats import norm\n",
    "import scipy.optimize as fitter\n",
    "%matplotlib inline\n",
    "\n",
    "#1\n",
    "\n",
    "I = np.array([0.0, 0.2, 0.4, 0.6,0.8,1.0,.2,1.4,1.6,1.8,2.0,2.2])\n",
    "f = np.array([0.14,0.60,1.21,1.94,2.47,3.07,3.83,4.16,4.68,5.60,6.31,6.78 ])\n",
    "\n",
    "def model(x, a, b):\n",
    "    return a + b*x\n",
    "\n",
    "\n",
    "par0 = np.array([0.0, 1.0])\n",
    "par, cov = fitter.curve_fit(model, I, f, p0 = par0, )\n",
    "\n",
    "\n",
    "xfit = np.linspace(0,3,50)\n",
    "plt.plot(xfit,model(xfit,par[0],par[1]),'r-')\n",
    "\n",
    "\n",
    "print('Slope of fit =' , par[1])\n",
    "print('Intercept of fit = ' , par[0] , '\\n') \n",
    "\n",
    "def determiney(x):\n",
    "    y = par[1]*(x) + par[0]\n",
    "    return y\n",
    "\n",
    "\n",
    "#2\n",
    "sigma = np.array([.01, .01,.01,.01,.01,.01,.01,.01,.01,.01,.01,.01])\n",
    "plt.errorbar(I, f, xerr = 0, yerr = sigma,fmt = 'o')\n",
    "\n",
    "chisquare = np.sum(((model(I, *par)-f)/sigma)**2)\n",
    "print('Chi Square with sigma(.01) = ', chisquare)\n",
    "print( 'Since Chi square is very large then the p value will be less than .05 so we can accept this null hypothesis')\n",
    "\n",
    "#3\n",
    "sigma1 = np.array([1,1,1,1,1,1,1,1,1,1,1,1])\n",
    "chisquare1 = np.sum(((model(I, *par)-f)/sigma1)**2)\n",
    "print( 'Chi Square with sigma(1) = ', chisquare1 )\n",
    "print( 'Since Chi square is smaller then the p value will be larger than .05 so we cannot accept this null hypothesis', '\\n')\n",
    "#4\n",
    "# first calculate uncertainty of the data\n",
    "#add uncertainty to all the data data y upp y down\n",
    "#difference in the slopes\n",
    "downrange = []\n",
    "upslope = []\n",
    "downslope = []\n",
    "for i in range(0,12):\n",
    "    downrange.append(f[i]-determiney(I[i]))\n",
    "\n",
    "uncertainty = abs(downrange[1])\n",
    "print('Uncertainty in line = ', uncertainty) \n",
    "\n",
    "for i in range(0,12):\n",
    "    upslope.append(uncertainty + f[i])\n",
    "    downslope.append(f[i] - uncertainty)\n",
    "\n",
    "\n",
    "par1 = np.array([0.0, 1.0])\n",
    "par2 = np.array([0.0, 1.0])\n",
    "parUp, cov = fitter.curve_fit(model, I, np.array(upslope) , p0 = par1)\n",
    "parDown, cov = fitter.curve_fit(model, I, np.array(downslope) , p0 = par2)\n",
    "\n",
    "UpM = parUp[1]\n",
    "DownM = parDown[1]\n",
    "UpY = parUp[0]\n",
    "DownY = parDown[0]\n",
    "print('Uncertainty in slope =', (UpM+DownM) / 2.)\n",
    "print('Uncertainty in Y intercept', (UpY + DownY) / 2. , '\\n')\n",
    "\n",
    "#5\n",
    "sigmaf = [] \n",
    "for i in range(0,12):\n",
    "    sigmaf.append(.03 + .03*f[i])\n",
    "\n",
    "parF, cov = fitter.curve_fit(model, I, f, p0=par1, sigma = sigmaf)\n",
    "print( 'Slope for unequal weighted fit', parF[1])\n",
    "print('Y in for unequal weighted fit', parF[0])\n",
    "plt.scatter(I,f)\n",
    "plt.xlabel('Current in amps')\n",
    "plt.ylabel('Frequency in Mhz')\n",
    "plt.title('Optical Pumping Experiment')\n",
    "plt.show()\n",
    "\n"
   ]
  },
  {
   "cell_type": "code",
   "execution_count": null,
   "metadata": {},
   "outputs": [],
   "source": []
  },
  {
   "cell_type": "code",
   "execution_count": null,
   "metadata": {},
   "outputs": [],
   "source": []
  },
  {
   "cell_type": "code",
   "execution_count": null,
   "metadata": {},
   "outputs": [],
   "source": []
  }
 ],
 "metadata": {
  "kernelspec": {
   "display_name": "Python 3",
   "language": "python",
   "name": "python3"
  },
  "language_info": {
   "codemirror_mode": {
    "name": "ipython",
    "version": 3
   },
   "file_extension": ".py",
   "mimetype": "text/x-python",
   "name": "python",
   "nbconvert_exporter": "python",
   "pygments_lexer": "ipython3",
   "version": "3.7.4"
  }
 },
 "nbformat": 4,
 "nbformat_minor": 4
}
